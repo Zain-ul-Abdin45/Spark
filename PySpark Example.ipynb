{
 "cells": [
  {
   "cell_type": "markdown",
   "id": "df1d7067",
   "metadata": {},
   "source": [
    "# Initializing Libraries"
   ]
  },
  {
   "cell_type": "code",
   "execution_count": 3,
   "id": "2e52db69",
   "metadata": {},
   "outputs": [],
   "source": [
    "import findspark\n",
    "findspark.init()\n",
    "import pyspark\n",
    "from pyspark.sql import SparkSession\n",
    "from pyspark import SparkContext, SparkConf"
   ]
  },
  {
   "cell_type": "markdown",
   "id": "2050f5cf",
   "metadata": {},
   "source": [
    "# Initializing Connection"
   ]
  },
  {
   "cell_type": "code",
   "execution_count": 22,
   "id": "500c1547",
   "metadata": {},
   "outputs": [
    {
     "name": "stdout",
     "output_type": "stream",
     "text": [
      "Trying creating PySpark Connection..\n",
      "Connection Created Succesfully\n",
      "+-----+\n",
      "|hello|\n",
      "+-----+\n",
      "|spark|\n",
      "+-----+\n",
      "\n"
     ]
    }
   ],
   "source": [
    "try:\n",
    "    print(\"Trying creating PySpark Connection..\")\n",
    "    spark = SparkSession.builder.appName(\"Spark Example\").getOrCreate()\n",
    "    print(\"Connection Created Succesfully\")\n",
    "except e:\n",
    "    print(\"Error Occured During Connection\")\n",
    "\n",
    "df = spark.sql(\"Select 'spark' as hello\")\n",
    "df.show()"
   ]
  },
  {
   "cell_type": "code",
   "execution_count": 23,
   "id": "67ffae55",
   "metadata": {},
   "outputs": [],
   "source": [
    "data = spark.sparkContext.parallelize([(1, 2, 3, 'a'),(4, 5, 6, 'd'), (7, 8, 9, 'g')]).toDF(['col1', 'col2', 'col3','col4'])"
   ]
  },
  {
   "cell_type": "code",
   "execution_count": 24,
   "id": "aa145b6f",
   "metadata": {},
   "outputs": [
    {
     "name": "stdout",
     "output_type": "stream",
     "text": [
      "+----+----+----+----+\n",
      "|col1|col2|col3|col4|\n",
      "+----+----+----+----+\n",
      "|   1|   2|   3|   a|\n",
      "|   4|   5|   6|   d|\n",
      "|   7|   8|   9|   g|\n",
      "+----+----+----+----+\n",
      "\n"
     ]
    }
   ],
   "source": [
    "data.show()"
   ]
  },
  {
   "cell_type": "code",
   "execution_count": 29,
   "id": "1ac62acd",
   "metadata": {},
   "outputs": [],
   "source": [
    "data2 = spark.createDataFrame(\n",
    "   \n",
    "    [(1,'James', 90000,'HR'),\n",
    "    (2,'Henry', 60000,'Data Engineering'),\n",
    "    (3,'John', 100000,'Business Analyst'),\n",
    "    (4,'Carlos', 120000,'BackEnd'),\n",
    "    (5,'Allin', 45000,'Intern')],\n",
    " ['ID', 'Name', 'Salary', 'Department'])"
   ]
  },
  {
   "cell_type": "code",
   "execution_count": 30,
   "id": "faae3b3b",
   "metadata": {},
   "outputs": [
    {
     "name": "stdout",
     "output_type": "stream",
     "text": [
      "+---+------+------+----------------+\n",
      "| ID|  Name|Salary|      Department|\n",
      "+---+------+------+----------------+\n",
      "|  1| James| 90000|              HR|\n",
      "|  2| Henry| 60000|Data Engineering|\n",
      "|  3|  John|100000|Business Analyst|\n",
      "|  4|Carlos|120000|         BackEnd|\n",
      "|  5| Allin| 45000|          Intern|\n",
      "+---+------+------+----------------+\n",
      "\n"
     ]
    }
   ],
   "source": [
    "data2.show()"
   ]
  }
 ],
 "metadata": {
  "kernelspec": {
   "display_name": "Python 3 (ipykernel)",
   "language": "python",
   "name": "python3"
  },
  "language_info": {
   "codemirror_mode": {
    "name": "ipython",
    "version": 3
   },
   "file_extension": ".py",
   "mimetype": "text/x-python",
   "name": "python",
   "nbconvert_exporter": "python",
   "pygments_lexer": "ipython3",
   "version": "3.9.12"
  }
 },
 "nbformat": 4,
 "nbformat_minor": 5
}
