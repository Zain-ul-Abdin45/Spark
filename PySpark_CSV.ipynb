{
 "cells": [
  {
   "cell_type": "code",
   "execution_count": 1,
   "id": "d94569b1",
   "metadata": {},
   "outputs": [],
   "source": [
    "import findspark\n",
    "findspark.init()"
   ]
  },
  {
   "cell_type": "code",
   "execution_count": 2,
   "id": "6d978c7b",
   "metadata": {},
   "outputs": [],
   "source": [
    "import pyspark\n",
    "from pyspark.sql import SparkSession\n",
    "from pyspark import SparkContext, SparkConf"
   ]
  },
  {
   "cell_type": "code",
   "execution_count": 7,
   "id": "9b439159",
   "metadata": {},
   "outputs": [
    {
     "name": "stdout",
     "output_type": "stream",
     "text": [
      "+-----+\n",
      "|hello|\n",
      "+-----+\n",
      "|spark|\n",
      "+-----+\n",
      "\n"
     ]
    }
   ],
   "source": [
    "spark = SparkSession.builder.getOrCreate()\n",
    "df = spark.sql(\"Select 'spark' as hello\")\n",
    "df.show()"
   ]
  },
  {
   "cell_type": "code",
   "execution_count": 3,
   "id": "07fe090d",
   "metadata": {},
   "outputs": [],
   "source": [
    "from pyspark import SparkContext, SparkConf, SQLContext\n",
    "import pyodbc\n",
    "import pandas as pd\n",
    "\n",
    "appName = \"PySpark SQL Server Example - via ODBC\"\n",
    "master = \"local\"\n",
    "conf = SparkConf() \\\n",
    "    .setAppName(appName) \\\n",
    "    .setMaster(master) \n",
    "sc = SparkContext(conf=conf)"
   ]
  },
  {
   "cell_type": "code",
   "execution_count": 4,
   "id": "21d71f2e",
   "metadata": {},
   "outputs": [
    {
     "name": "stderr",
     "output_type": "stream",
     "text": [
      "C:\\app\\spark-3.3.1-bin-hadoop3\\python\\pyspark\\sql\\context.py:112: FutureWarning: Deprecated in 3.0.0. Use SparkSession.builder.getOrCreate() instead.\n",
      "  warnings.warn(\n"
     ]
    }
   ],
   "source": [
    "sqlContext = SQLContext(sc)\n",
    "spark = sqlContext.sparkSession"
   ]
  },
  {
   "cell_type": "code",
   "execution_count": 5,
   "id": "06339d19",
   "metadata": {},
   "outputs": [],
   "source": [
    "df = spark.read.format(\"csv\").option(\"header\", True).load(\"D:/Python/datasets/eplmatches.csv\")"
   ]
  },
  {
   "cell_type": "code",
   "execution_count": 6,
   "id": "bdab72a1",
   "metadata": {},
   "outputs": [
    {
     "name": "stdout",
     "output_type": "stream",
     "text": [
      "+---------------+---+----------+---------------+---------+---------+---------------+---+\n",
      "|Season_End_Year| Wk|      Date|           Home|HomeGoals|AwayGoals|           Away|FTR|\n",
      "+---------------+---+----------+---------------+---------+---------+---------------+---+\n",
      "|           1993|  1|1992-08-15|  Coventry City|        2|        1|  Middlesbrough|  H|\n",
      "|           1993|  1|1992-08-15|   Leeds United|        2|        1|      Wimbledon|  H|\n",
      "|           1993|  1|1992-08-15|  Sheffield Utd|        2|        1| Manchester Utd|  H|\n",
      "|           1993|  1|1992-08-15| Crystal Palace|        3|        3|      Blackburn|  D|\n",
      "|           1993|  1|1992-08-15|        Arsenal|        2|        4|   Norwich City|  A|\n",
      "|           1993|  1|1992-08-15|   Ipswich Town|        1|        1|    Aston Villa|  D|\n",
      "|           1993|  1|1992-08-15|        Everton|        1|        1| Sheffield Weds|  D|\n",
      "|           1993|  1|1992-08-15|    Southampton|        0|        0|      Tottenham|  D|\n",
      "|           1993|  1|1992-08-15|        Chelsea|        1|        1|Oldham Athletic|  D|\n",
      "|           1993|  1|1992-08-16|Nott'ham Forest|        1|        0|      Liverpool|  H|\n",
      "|           1993|  1|1992-08-17|Manchester City|        1|        1|            QPR|  D|\n",
      "|           1993| 10|1992-09-26|      Blackburn|        2|        0|Oldham Athletic|  H|\n",
      "|           1993| 10|1992-09-26| Manchester Utd|        0|        0|            QPR|  D|\n",
      "|           1993| 10|1992-09-26|   Ipswich Town|        0|        0|  Sheffield Utd|  D|\n",
      "|           1993| 10|1992-09-26|      Liverpool|        2|        3|      Wimbledon|  A|\n",
      "|           1993| 10|1992-09-26|   Leeds United|        2|        0|        Everton|  H|\n",
      "|           1993| 10|1992-09-26|  Middlesbrough|        2|        3|    Aston Villa|  A|\n",
      "|           1993| 10|1992-09-26|        Chelsea|        0|        0|Nott'ham Forest|  D|\n",
      "|           1993| 10|1992-09-26| Crystal Palace|        1|        2|    Southampton|  A|\n",
      "|           1993| 10|1992-09-26|  Coventry City|        1|        1|   Norwich City|  D|\n",
      "+---------------+---+----------+---------------+---------+---------+---------------+---+\n",
      "only showing top 20 rows\n",
      "\n"
     ]
    }
   ],
   "source": [
    "df.show()"
   ]
  },
  {
   "cell_type": "code",
   "execution_count": 7,
   "id": "9deaf188",
   "metadata": {},
   "outputs": [
    {
     "data": {
      "text/plain": [
       "pyspark.sql.dataframe.DataFrame"
      ]
     },
     "execution_count": 7,
     "metadata": {},
     "output_type": "execute_result"
    }
   ],
   "source": [
    "type(df)"
   ]
  },
  {
   "cell_type": "code",
   "execution_count": 8,
   "id": "37d0ac71",
   "metadata": {},
   "outputs": [
    {
     "data": {
      "text/plain": [
       "[Row(Season_End_Year='1993', Wk='1', Date='1992-08-15', Home='Coventry City', HomeGoals='2', AwayGoals='1', Away='Middlesbrough', FTR='H'),\n",
       " Row(Season_End_Year='1993', Wk='1', Date='1992-08-15', Home='Leeds United', HomeGoals='2', AwayGoals='1', Away='Wimbledon', FTR='H')]"
      ]
     },
     "execution_count": 8,
     "metadata": {},
     "output_type": "execute_result"
    }
   ],
   "source": [
    "df.head(2)"
   ]
  },
  {
   "cell_type": "code",
   "execution_count": 10,
   "id": "4e7d58a3",
   "metadata": {
    "scrolled": true
   },
   "outputs": [
    {
     "name": "stdout",
     "output_type": "stream",
     "text": [
      "root\n",
      " |-- Season_End_Year: string (nullable = true)\n",
      " |-- Wk: string (nullable = true)\n",
      " |-- Date: string (nullable = true)\n",
      " |-- Home: string (nullable = true)\n",
      " |-- HomeGoals: string (nullable = true)\n",
      " |-- AwayGoals: string (nullable = true)\n",
      " |-- Away: string (nullable = true)\n",
      " |-- FTR: string (nullable = true)\n",
      "\n"
     ]
    }
   ],
   "source": [
    "df.printSchema() #columns"
   ]
  },
  {
   "cell_type": "code",
   "execution_count": 25,
   "id": "9765b7da",
   "metadata": {},
   "outputs": [],
   "source": [
    "data = spark.read.option('header', True).format(\"csv\").csv(\"D:/Python/datasets/artist_tracks_data.csv\") #, inferSchema=True)\n",
    "#inferschema used to guess automatically the type of data"
   ]
  },
  {
   "cell_type": "code",
   "execution_count": 26,
   "id": "7d5ea603",
   "metadata": {},
   "outputs": [
    {
     "name": "stdout",
     "output_type": "stream",
     "text": [
      "+---------------+--------------------+------------+--------------------+--------------------+--------------------+-----------+------------+------------+------+----------------+--------+--------+-----------+-------+-------+----------+\n",
      "|         artist|               album|track_number|                  id|                name|                 uri|duration_ms|acousticness|danceability|energy|instrumentalness|liveness|loudness|speechiness|  tempo|valence|popularity|\n",
      "+---------------+--------------------+------------+--------------------+--------------------+--------------------+-----------+------------+------------+------+----------------+--------+--------+-----------+-------+-------+----------+\n",
      "|Angeline Quinto| @LoveAngelineQuinto|           1|48pPpT5Xyli4tBCMi...|Para Bang, Para Lang|spotify:track:48p...|     248711|       0.651|        0.67| 0.533|             0.0|   0.174|  -5.851|     0.0394| 90.089|  0.447|        28|\n",
      "|Angeline Quinto| @LoveAngelineQuinto|           2|12fSfbtn43L2KO6kq...|         'Di Na Tayo|spotify:track:12f...|     270132|       0.292|        0.71| 0.657|        1.48e-05|   0.236|  -5.509|      0.047|139.965|  0.425|        28|\n",
      "|Angeline Quinto| @LoveAngelineQuinto|           3|6B2UndFWylp4Y93Fw...|        At Ang Hirap|spotify:track:6B2...|     257567|       0.843|       0.434| 0.357|        1.69e-06|   0.169|  -8.532|     0.0507|129.769|   0.14|        53|\n",
      "|Angeline Quinto| @LoveAngelineQuinto|           4|0Ba6MOshEq4QBV5qM...|Parang Tayo Pero ...|spotify:track:0Ba...|     226377|       0.711|       0.527| 0.413|             0.0|   0.327|  -7.574|      0.032|127.282|  0.236|        19|\n",
      "|Angeline Quinto| @LoveAngelineQuinto|           5|3Lc6STDL8CQfAY4t8...|    Awit Ng Pag-ibig|spotify:track:3Lc...|     249939|       0.858|        0.35| 0.283|        1.97e-06|  0.0628|   -8.12|     0.0382|129.872|  0.188|        18|\n",
      "|Angeline Quinto| @LoveAngelineQuinto|           6|551gJb0O4V4IA8Htu...|Ang Pag-ibig Ko'y...|spotify:track:551...|     273293|       0.942|       0.444| 0.223|        2.47e-05|   0.123|  -9.135|     0.0341| 76.461|  0.255|        18|\n",
      "|Angeline Quinto| @LoveAngelineQuinto|           7|3qXuyBLqetZRDInLJ...|Paano Ba Ang Huwa...|spotify:track:3qX...|     229250|       0.956|       0.437| 0.264|         0.00229|  0.0813|  -9.822|       0.04|126.997|  0.322|        18|\n",
      "|Angeline Quinto| @LoveAngelineQuinto|           8|3megxm4xWsConN0SI...|      Nanghihinayang|spotify:track:3me...|     285596|       0.741|       0.593| 0.234|        3.37e-06|   0.094|  -8.807|     0.0367|121.885|  0.426|        40|\n",
      "|Angeline Quinto| @LoveAngelineQuinto|           9|4VNXZHKy6HBKGosrW...|      Kailangan Kita|spotify:track:4VN...|     264045|       0.933|       0.371| 0.245|        2.67e-05|  0.0907|  -8.253|     0.0324|130.022|  0.337|        36|\n",
      "|Angeline Quinto| @LoveAngelineQuinto|          10|3JKbROtYB8oLkAo1n...|Para Bang, Para L...|spotify:track:3JK...|     233116|       0.684|       0.641| 0.541|        1.08e-06|   0.301|   -7.19|     0.0315| 93.988|  0.357|        14|\n",
      "|Angeline Quinto|Sana Bukas Pa Ang...|           1|6VeOvyaMBynIqMSY5...|          Gusto Kita|spotify:track:6Ve...|     288000|       0.594|       0.461| 0.474|             0.0|  0.0976|  -7.479|     0.0347|  71.76|  0.276|        46|\n",
      "|Angeline Quinto|Sana Bukas Pa Ang...|           2|41DL92BdNCc5SVKb0...|     Why Can't It Be|spotify:track:41D...|     227448|       0.635|       0.623| 0.346|          0.0033|  0.0987|  -8.524|     0.0382|125.952|  0.189|        38|\n",
      "|Angeline Quinto|Sana Bukas Pa Ang...|           3|4cn755HC6F6BTjJ0G...|    Umiiyak Ang Puso|spotify:track:4cn...|     291944|       0.772|       0.637|  0.49|        1.47e-06|  0.0715|  -7.508|     0.0384|129.988|  0.327|        40|\n",
      "|Angeline Quinto|Sana Bukas Pa Ang...|           4|45rkTL4dqJo0ENnY2...|             Someday|spotify:track:45r...|     227892|       0.263|       0.646| 0.493|        1.09e-06|   0.125|  -7.314|     0.0391|126.139|  0.187|        30|\n",
      "|Angeline Quinto|Sana Bukas Pa Ang...|           5|1Z4S3lmlIU5Cl5XRC...|    Wherever You Are|spotify:track:1Z4...|     286275|       0.907|       0.561|   0.3|        7.84e-05|   0.115|  -9.397|     0.0327| 99.821|  0.229|        32|\n",
      "|Angeline Quinto|Sana Bukas Pa Ang...|           6|1WWyNkpStGdwTv0YF...|       Hindi ko Kaya|spotify:track:1WW...|     304796|        0.89|       0.621| 0.319|        3.09e-05|   0.089|  -8.065|     0.0309|109.944|  0.256|        41|\n",
      "|Angeline Quinto|Sana Bukas Pa Ang...|           7|3bSRa6ygplMrySCSB...|                Muli|spotify:track:3bS...|     277028|        0.62|       0.652|  0.37|        0.000653|   0.111|  -9.566|     0.0387|126.049|  0.229|        36|\n",
      "|Angeline Quinto|Sana Bukas Pa Ang...|           8|2sEyQuRFRu3U5DGP1...|             Forever|spotify:track:2sE...|     241632|       0.929|       0.378| 0.248|        3.79e-06|   0.093|  -8.658|     0.0371|117.765|  0.334|        38|\n",
      "|Angeline Quinto|Sana Bukas Pa Ang...|           9|3nq5RxPmKsFmiFFsu...|Sana Bukas Pa Ang...|spotify:track:3nq...|     299911|       0.935|       0.371| 0.277|        0.000218|   0.119|  -8.192|     0.0314| 85.113|  0.212|        29|\n",
      "|Angeline Quinto|Sana Bukas Pa Ang...|          10|2rs03XVHMa2Ov6F93...|Gusto Kita - Minu...|spotify:track:2rs...|     287933|      0.0831|       0.519| 0.391|           0.111|   0.107| -11.586|      0.036| 72.004|  0.293|        12|\n",
      "+---------------+--------------------+------------+--------------------+--------------------+--------------------+-----------+------------+------------+------+----------------+--------+--------+-----------+-------+-------+----------+\n",
      "only showing top 20 rows\n",
      "\n"
     ]
    }
   ],
   "source": [
    "data.show()"
   ]
  },
  {
   "cell_type": "code",
   "execution_count": 27,
   "id": "71685f42",
   "metadata": {
    "scrolled": true
   },
   "outputs": [
    {
     "name": "stdout",
     "output_type": "stream",
     "text": [
      "root\n",
      " |-- artist: string (nullable = true)\n",
      " |-- album: string (nullable = true)\n",
      " |-- track_number: string (nullable = true)\n",
      " |-- id: string (nullable = true)\n",
      " |-- name: string (nullable = true)\n",
      " |-- uri: string (nullable = true)\n",
      " |-- duration_ms: string (nullable = true)\n",
      " |-- acousticness: string (nullable = true)\n",
      " |-- danceability: string (nullable = true)\n",
      " |-- energy: string (nullable = true)\n",
      " |-- instrumentalness: string (nullable = true)\n",
      " |-- liveness: string (nullable = true)\n",
      " |-- loudness: string (nullable = true)\n",
      " |-- speechiness: string (nullable = true)\n",
      " |-- tempo: string (nullable = true)\n",
      " |-- valence: string (nullable = true)\n",
      " |-- popularity: string (nullable = true)\n",
      "\n"
     ]
    }
   ],
   "source": [
    "data.printSchema() # data types and schema"
   ]
  },
  {
   "cell_type": "code",
   "execution_count": null,
   "id": "2d1c2af5",
   "metadata": {},
   "outputs": [],
   "source": [
    "def convertcolumns(data, names, newType):\n",
    "    for name in names:\n",
    "        data = data.withColumn(track_number, data[track_number].cast())"
   ]
  },
  {
   "cell_type": "code",
   "execution_count": 29,
   "id": "abbd88f2",
   "metadata": {},
   "outputs": [
    {
     "name": "stdout",
     "output_type": "stream",
     "text": [
      "+---------------+--------------------+------------+\n",
      "|         artist|               album|track_number|\n",
      "+---------------+--------------------+------------+\n",
      "|Angeline Quinto| @LoveAngelineQuinto|           1|\n",
      "|Angeline Quinto| @LoveAngelineQuinto|           2|\n",
      "|Angeline Quinto| @LoveAngelineQuinto|           3|\n",
      "|Angeline Quinto| @LoveAngelineQuinto|           4|\n",
      "|Angeline Quinto| @LoveAngelineQuinto|           5|\n",
      "|Angeline Quinto| @LoveAngelineQuinto|           6|\n",
      "|Angeline Quinto| @LoveAngelineQuinto|           7|\n",
      "|Angeline Quinto| @LoveAngelineQuinto|           8|\n",
      "|Angeline Quinto| @LoveAngelineQuinto|           9|\n",
      "|Angeline Quinto| @LoveAngelineQuinto|          10|\n",
      "|Angeline Quinto|Sana Bukas Pa Ang...|           1|\n",
      "|Angeline Quinto|Sana Bukas Pa Ang...|           2|\n",
      "|Angeline Quinto|Sana Bukas Pa Ang...|           3|\n",
      "|Angeline Quinto|Sana Bukas Pa Ang...|           4|\n",
      "|Angeline Quinto|Sana Bukas Pa Ang...|           5|\n",
      "|Angeline Quinto|Sana Bukas Pa Ang...|           6|\n",
      "|Angeline Quinto|Sana Bukas Pa Ang...|           7|\n",
      "|Angeline Quinto|Sana Bukas Pa Ang...|           8|\n",
      "|Angeline Quinto|Sana Bukas Pa Ang...|           9|\n",
      "|Angeline Quinto|Sana Bukas Pa Ang...|          10|\n",
      "+---------------+--------------------+------------+\n",
      "only showing top 20 rows\n",
      "\n"
     ]
    }
   ],
   "source": [
    "data.select('artist', 'album', 'track_number').show()"
   ]
  },
  {
   "cell_type": "code",
   "execution_count": 30,
   "id": "cf5343b7",
   "metadata": {},
   "outputs": [
    {
     "name": "stdout",
     "output_type": "stream",
     "text": [
      "+--------------------+-----+\n",
      "|                  id|count|\n",
      "+--------------------+-----+\n",
      "|0LWhroGAC08Y2fnyp...|    1|\n",
      "|65QGVjM3h9MRJkQGc...|    1|\n",
      "|3TXZxIw8NLTfiT0Kc...|    1|\n",
      "|678mSaLBo6aedt4LN...|    1|\n",
      "|2UI6Kz2FcoBUCA1WT...|    1|\n",
      "|7xQ6VvHcUV8ueA5j0...|    1|\n",
      "|4nwGM6TL4Q0NRjwXg...|    1|\n",
      "|1THIjrB3qc9fX3Yqs...|    1|\n",
      "|47CODQYpPtkuS9l5C...|    1|\n",
      "|0Q3SC6kEhxYagDP3b...|    1|\n",
      "|7JPJQpuaU330JnT54...|    1|\n",
      "|2orItodWIgoDLcTbP...|    1|\n",
      "|4oKe0nVRXREX67YAE...|    1|\n",
      "|2A2KuKH2z1rffCwTM...|    1|\n",
      "|3HKx3dAObIoMYXQI0...|    1|\n",
      "|6C6F2oA7cmZKqq26F...|    1|\n",
      "|7DAOG9kVc8R2h5HDu...|    1|\n",
      "|6Q7mn0KjoCZGYeuWR...|    1|\n",
      "|59PdA9JPCf6QF2N1Q...|    1|\n",
      "|6xRSXRHvAku6K8Tme...|    1|\n",
      "+--------------------+-----+\n",
      "only showing top 20 rows\n",
      "\n"
     ]
    }
   ],
   "source": [
    "data.groupBy(\"id\").count().sort(\"count\", ascending = True).show()"
   ]
  },
  {
   "cell_type": "code",
   "execution_count": 31,
   "id": "caf4b53b",
   "metadata": {},
   "outputs": [
    {
     "name": "stdout",
     "output_type": "stream",
     "text": [
      "+-------+---------------+-------------------+------------------+--------------------+--------------------+--------------------+------------------+------------------+------------------+-------------------+-------------------+-------------------+------------------+--------------------+------------------+-------------------+------------------+\n",
      "|summary|         artist|              album|      track_number|                  id|                name|                 uri|       duration_ms|      acousticness|      danceability|             energy|   instrumentalness|           liveness|          loudness|         speechiness|             tempo|            valence|        popularity|\n",
      "+-------+---------------+-------------------+------------------+--------------------+--------------------+--------------------+------------------+------------------+------------------+-------------------+-------------------+-------------------+------------------+--------------------+------------------+-------------------+------------------+\n",
      "|  count|            436|                436|               436|                 436|                 436|                 436|               436|               436|               436|                436|                436|                436|               436|                 436|               436|                436|               436|\n",
      "|   mean|           null|               null| 7.298165137614679|                null|                null|                null| 227344.8119266055|0.3698545844036696|0.5528279816513758| 0.5913096330275229|0.12175887075688077|0.17931559633027513|-6.723538990825683|0.047488073394495435|124.79241743119269| 0.3654270642201832|19.543577981651374|\n",
      "| stddev|           null|               null|4.3256089949583485|                null|                null|                null|42900.037342281445|0.3391490837101673|0.1400577393136989|0.24050238223563278|0.27111350998986977| 0.1263207507816288| 3.025984601740477| 0.03841378697606992|28.138165602784404|0.21819372021601868|15.952095817218535|\n",
      "|    min|Angeline Quinto|@LoveAngelineQuinto|                 1|007kWGEvI5cGCATlo...|\"Anong Nangyari S...|spotify:track:007...|            129701|           0.00012|              0.16|              0.116|                0.0|             0.0407|            -0.958|              0.0236|           100.034|             0.0383|                 0|\n",
      "|    max| Sarah Geronimo|Your Christmas Girl|                 9|7yk5VhbVbvSrNi6U7...|Your Universe - Live|spotify:track:7yk...|             63120|          7.78e-05|             0.918|              0.982|           9.77e-06|              0.823|            -9.974|               0.315|            99.996|               0.97|                 9|\n",
      "+-------+---------------+-------------------+------------------+--------------------+--------------------+--------------------+------------------+------------------+------------------+-------------------+-------------------+-------------------+------------------+--------------------+------------------+-------------------+------------------+\n",
      "\n"
     ]
    }
   ],
   "source": [
    "data.describe().show()"
   ]
  },
  {
   "cell_type": "code",
   "execution_count": 32,
   "id": "ea7d4992",
   "metadata": {},
   "outputs": [
    {
     "name": "stdout",
     "output_type": "stream",
     "text": [
      "+-------+------------------+\n",
      "|summary|        popularity|\n",
      "+-------+------------------+\n",
      "|  count|               436|\n",
      "|   mean|19.543577981651374|\n",
      "| stddev|15.952095817218535|\n",
      "|    min|                 0|\n",
      "|    max|                 9|\n",
      "+-------+------------------+\n",
      "\n"
     ]
    }
   ],
   "source": [
    "data.describe('popularity').show()"
   ]
  },
  {
   "cell_type": "code",
   "execution_count": 35,
   "id": "6bc33547",
   "metadata": {},
   "outputs": [
    {
     "ename": "AnalysisException",
     "evalue": "Column 'album' does not exist. Did you mean one of the following? [0.116, 0.118, 0.121, 0.132, 0.141, 0.185, 0.186, 0.189, 0.2, 0.204, 0.205, 0.208, 0.212, 0.213, 0.216, 0.217, 0.218, 0.219, 0.22, 0.223, 0.227, 0.229, 0.231, 0.234, 0.237, 0.238, 0.242, 0.245, 0.248, 0.249, 0.25, 0.254, 0.257, 0.258, 0.261, 0.262, 0.263, 0.264, 0.266, 0.27, 0.277, 0.278, 0.279, 0.283, 0.284, 0.285, 0.289, 0.293, 0.294, 0.298, 0.299, 0.3, 0.301, 0.303, 0.305, 0.307, 0.309, 0.314, 0.318, 0.319, 0.322, 0.323, 0.324, 0.326, 0.333, 0.335, 0.34, 0.342, 0.346, 0.349, 0.353, 0.356, 0.357, 0.358, 0.359, 0.361, 0.364, 0.368, 0.37, 0.371, 0.373, 0.378, 0.38, 0.381, 0.386, 0.388, 0.391, 0.395, 0.396, 0.398, 0.4, 0.401, 0.402, 0.403, 0.41, 0.411, 0.413, 0.414, 0.418, 0.42, 0.421, 0.425, 0.426, 0.427, 0.429, 0.43, 0.436, 0.437, 0.438, 0.439, 0.44, 0.443, 0.448, 0.45, 0.452, 0.453, 0.454, 0.462, 0.463, 0.465, 0.469, 0.471, 0.473, 0.474, 0.475, 0.476, 0.479, 0.482, 0.483, 0.486, 0.487, 0.489, 0.49, 0.491, 0.492, 0.493, 0.494, 0.496, 0.498, 0.5, 0.501, 0.502, 0.504, 0.505, 0.508, 0.51, 0.511, 0.513, 0.514, 0.515, 0.518, 0.52, 0.522, 0.523, 0.528, 0.53, 0.532, 0.533, 0.535, 0.537, 0.54, 0.541, 0.542, 0.545, 0.548, 0.549, 0.552, 0.558, 0.562, 0.564, 0.567, 0.571, 0.575, 0.577, 0.578, 0.582, 0.588, 0.589, 0.59, 0.594, 0.598, 0.603, 0.608, 0.623, 0.63, 0.633, 0.637, 0.638, 0.639, 0.64, 0.641, 0.644, 0.65, 0.657, 0.658, 0.659, 0.661, 0.666, 0.668, 0.669, 0.673, 0.678, 0.682, 0.683, 0.685, 0.687, 0.69, 0.693, 0.697, 0.703, 0.705, 0.708, 0.714, 0.716, 0.72, 0.723, 0.726, 0.728, 0.735, 0.736, 0.739, 0.741, 0.743, 0.748, 0.753, 0.754, 0.778, 0.784, 0.787, 0.793, 0.794, 0.809, 0.81, 0.811, 0.812, 0.813, 0.814, 0.815, 0.816, 0.817, 0.819, 0.82, 0.822, 0.824, 0.826, 0.827, 0.832, 0.835, 0.837, 0.838, 0.844, 0.845, 0.848, 0.849, 0.858, 0.861, 0.862, 0.865, 0.867, 0.868, 0.87, 0.875, 0.876, 0.881, 0.885, 0.888, 0.889, 0.895, 0.901, 0.902, 0.905, 0.907, 0.909, 0.915, 0.919, 0.921, 0.926, 0.931, 0.932, 0.933, 0.936, 0.938, 0.947, 0.956, 0.957, 0.96, 0.968, 0.969, 0.97, 0.979, 0.982, popularity_energy];\n'Sort ['album ASC NULLS FIRST], true\n+- Project [popularity_energy#5538, coalesce(0.116#5539L, cast(0.0 as bigint)) AS 0.116#6414L, coalesce(0.118#5540L, cast(0.0 as bigint)) AS 0.118#6415L, coalesce(0.121#5541L, cast(0.0 as bigint)) AS 0.121#6416L, coalesce(0.132#5542L, cast(0.0 as bigint)) AS 0.132#6417L, coalesce(0.141#5543L, cast(0.0 as bigint)) AS 0.141#6418L, coalesce(0.185#5544L, cast(0.0 as bigint)) AS 0.185#6419L, coalesce(0.186#5545L, cast(0.0 as bigint)) AS 0.186#6420L, coalesce(0.189#5546L, cast(0.0 as bigint)) AS 0.189#6421L, coalesce(0.2#5547L, cast(0.0 as bigint)) AS 0.2#6422L, coalesce(0.204#5548L, cast(0.0 as bigint)) AS 0.204#6423L, coalesce(0.205#5549L, cast(0.0 as bigint)) AS 0.205#6424L, coalesce(0.208#5550L, cast(0.0 as bigint)) AS 0.208#6425L, coalesce(0.212#5551L, cast(0.0 as bigint)) AS 0.212#6426L, coalesce(0.213#5552L, cast(0.0 as bigint)) AS 0.213#6427L, coalesce(0.216#5553L, cast(0.0 as bigint)) AS 0.216#6428L, coalesce(0.217#5554L, cast(0.0 as bigint)) AS 0.217#6429L, coalesce(0.218#5555L, cast(0.0 as bigint)) AS 0.218#6430L, coalesce(0.219#5556L, cast(0.0 as bigint)) AS 0.219#6431L, coalesce(0.22#5557L, cast(0.0 as bigint)) AS 0.22#6432L, coalesce(0.223#5558L, cast(0.0 as bigint)) AS 0.223#6433L, coalesce(0.227#5559L, cast(0.0 as bigint)) AS 0.227#6434L, coalesce(0.229#5560L, cast(0.0 as bigint)) AS 0.229#6435L, coalesce(0.231#5561L, cast(0.0 as bigint)) AS 0.231#6436L, ... 268 more fields]\n   +- LocalRelation [popularity_energy#5538, 0.116#5539L, 0.118#5540L, 0.121#5541L, 0.132#5542L, 0.141#5543L, 0.185#5544L, 0.186#5545L, 0.189#5546L, 0.2#5547L, 0.204#5548L, 0.205#5549L, 0.208#5550L, 0.212#5551L, 0.213#5552L, 0.216#5553L, 0.217#5554L, 0.218#5555L, 0.219#5556L, 0.22#5557L, 0.223#5558L, 0.227#5559L, 0.229#5560L, 0.231#5561L, ... 268 more fields]\n",
     "output_type": "error",
     "traceback": [
      "\u001b[1;31m---------------------------------------------------------------------------\u001b[0m",
      "\u001b[1;31mAnalysisException\u001b[0m                         Traceback (most recent call last)",
      "Input \u001b[1;32mIn [35]\u001b[0m, in \u001b[0;36m<cell line: 1>\u001b[1;34m()\u001b[0m\n\u001b[1;32m----> 1\u001b[0m \u001b[43mdata\u001b[49m\u001b[38;5;241;43m.\u001b[39;49m\u001b[43mcrosstab\u001b[49m\u001b[43m(\u001b[49m\u001b[38;5;124;43m'\u001b[39;49m\u001b[38;5;124;43mpopularity\u001b[39;49m\u001b[38;5;124;43m'\u001b[39;49m\u001b[43m,\u001b[49m\u001b[43m \u001b[49m\u001b[38;5;124;43m'\u001b[39;49m\u001b[38;5;124;43menergy\u001b[39;49m\u001b[38;5;124;43m'\u001b[39;49m\u001b[43m)\u001b[49m\u001b[38;5;241;43m.\u001b[39;49m\u001b[43msort\u001b[49m\u001b[43m(\u001b[49m\u001b[38;5;124;43m'\u001b[39;49m\u001b[38;5;124;43malbum\u001b[39;49m\u001b[38;5;124;43m'\u001b[39;49m\u001b[43m)\u001b[49m\u001b[38;5;241m.\u001b[39mshow()\n",
      "File \u001b[1;32mC:\\app\\spark-3.3.1-bin-hadoop3\\python\\pyspark\\sql\\dataframe.py:1730\u001b[0m, in \u001b[0;36mDataFrame.sort\u001b[1;34m(self, *cols, **kwargs)\u001b[0m\n\u001b[0;32m   1695\u001b[0m \u001b[38;5;28;01mdef\u001b[39;00m \u001b[38;5;21msort\u001b[39m(\n\u001b[0;32m   1696\u001b[0m     \u001b[38;5;28mself\u001b[39m, \u001b[38;5;241m*\u001b[39mcols: Union[\u001b[38;5;28mstr\u001b[39m, Column, List[Union[\u001b[38;5;28mstr\u001b[39m, Column]]], \u001b[38;5;241m*\u001b[39m\u001b[38;5;241m*\u001b[39mkwargs: Any\n\u001b[0;32m   1697\u001b[0m ) \u001b[38;5;241m-\u001b[39m\u001b[38;5;241m>\u001b[39m \u001b[38;5;124m\"\u001b[39m\u001b[38;5;124mDataFrame\u001b[39m\u001b[38;5;124m\"\u001b[39m:\n\u001b[0;32m   1698\u001b[0m     \u001b[38;5;124;03m\"\"\"Returns a new :class:`DataFrame` sorted by the specified column(s).\u001b[39;00m\n\u001b[0;32m   1699\u001b[0m \n\u001b[0;32m   1700\u001b[0m \u001b[38;5;124;03m    .. versionadded:: 1.3.0\u001b[39;00m\n\u001b[1;32m   (...)\u001b[0m\n\u001b[0;32m   1728\u001b[0m \u001b[38;5;124;03m    [Row(age=5, name='Bob'), Row(age=2, name='Alice')]\u001b[39;00m\n\u001b[0;32m   1729\u001b[0m \u001b[38;5;124;03m    \"\"\"\u001b[39;00m\n\u001b[1;32m-> 1730\u001b[0m     jdf \u001b[38;5;241m=\u001b[39m \u001b[38;5;28;43mself\u001b[39;49m\u001b[38;5;241;43m.\u001b[39;49m\u001b[43m_jdf\u001b[49m\u001b[38;5;241;43m.\u001b[39;49m\u001b[43msort\u001b[49m\u001b[43m(\u001b[49m\u001b[38;5;28;43mself\u001b[39;49m\u001b[38;5;241;43m.\u001b[39;49m\u001b[43m_sort_cols\u001b[49m\u001b[43m(\u001b[49m\u001b[43mcols\u001b[49m\u001b[43m,\u001b[49m\u001b[43m \u001b[49m\u001b[43mkwargs\u001b[49m\u001b[43m)\u001b[49m\u001b[43m)\u001b[49m\n\u001b[0;32m   1731\u001b[0m     \u001b[38;5;28;01mreturn\u001b[39;00m DataFrame(jdf, \u001b[38;5;28mself\u001b[39m\u001b[38;5;241m.\u001b[39msparkSession)\n",
      "File \u001b[1;32mC:\\app\\spark-3.3.1-bin-hadoop3\\python\\lib\\py4j-0.10.9.5-src.zip\\py4j\\java_gateway.py:1321\u001b[0m, in \u001b[0;36mJavaMember.__call__\u001b[1;34m(self, *args)\u001b[0m\n\u001b[0;32m   1315\u001b[0m command \u001b[38;5;241m=\u001b[39m proto\u001b[38;5;241m.\u001b[39mCALL_COMMAND_NAME \u001b[38;5;241m+\u001b[39m\\\n\u001b[0;32m   1316\u001b[0m     \u001b[38;5;28mself\u001b[39m\u001b[38;5;241m.\u001b[39mcommand_header \u001b[38;5;241m+\u001b[39m\\\n\u001b[0;32m   1317\u001b[0m     args_command \u001b[38;5;241m+\u001b[39m\\\n\u001b[0;32m   1318\u001b[0m     proto\u001b[38;5;241m.\u001b[39mEND_COMMAND_PART\n\u001b[0;32m   1320\u001b[0m answer \u001b[38;5;241m=\u001b[39m \u001b[38;5;28mself\u001b[39m\u001b[38;5;241m.\u001b[39mgateway_client\u001b[38;5;241m.\u001b[39msend_command(command)\n\u001b[1;32m-> 1321\u001b[0m return_value \u001b[38;5;241m=\u001b[39m \u001b[43mget_return_value\u001b[49m\u001b[43m(\u001b[49m\n\u001b[0;32m   1322\u001b[0m \u001b[43m    \u001b[49m\u001b[43manswer\u001b[49m\u001b[43m,\u001b[49m\u001b[43m \u001b[49m\u001b[38;5;28;43mself\u001b[39;49m\u001b[38;5;241;43m.\u001b[39;49m\u001b[43mgateway_client\u001b[49m\u001b[43m,\u001b[49m\u001b[43m \u001b[49m\u001b[38;5;28;43mself\u001b[39;49m\u001b[38;5;241;43m.\u001b[39;49m\u001b[43mtarget_id\u001b[49m\u001b[43m,\u001b[49m\u001b[43m \u001b[49m\u001b[38;5;28;43mself\u001b[39;49m\u001b[38;5;241;43m.\u001b[39;49m\u001b[43mname\u001b[49m\u001b[43m)\u001b[49m\n\u001b[0;32m   1324\u001b[0m \u001b[38;5;28;01mfor\u001b[39;00m temp_arg \u001b[38;5;129;01min\u001b[39;00m temp_args:\n\u001b[0;32m   1325\u001b[0m     temp_arg\u001b[38;5;241m.\u001b[39m_detach()\n",
      "File \u001b[1;32mC:\\app\\spark-3.3.1-bin-hadoop3\\python\\pyspark\\sql\\utils.py:196\u001b[0m, in \u001b[0;36mcapture_sql_exception.<locals>.deco\u001b[1;34m(*a, **kw)\u001b[0m\n\u001b[0;32m    192\u001b[0m converted \u001b[38;5;241m=\u001b[39m convert_exception(e\u001b[38;5;241m.\u001b[39mjava_exception)\n\u001b[0;32m    193\u001b[0m \u001b[38;5;28;01mif\u001b[39;00m \u001b[38;5;129;01mnot\u001b[39;00m \u001b[38;5;28misinstance\u001b[39m(converted, UnknownException):\n\u001b[0;32m    194\u001b[0m     \u001b[38;5;66;03m# Hide where the exception came from that shows a non-Pythonic\u001b[39;00m\n\u001b[0;32m    195\u001b[0m     \u001b[38;5;66;03m# JVM exception message.\u001b[39;00m\n\u001b[1;32m--> 196\u001b[0m     \u001b[38;5;28;01mraise\u001b[39;00m converted \u001b[38;5;28;01mfrom\u001b[39;00m \u001b[38;5;28mNone\u001b[39m\n\u001b[0;32m    197\u001b[0m \u001b[38;5;28;01melse\u001b[39;00m:\n\u001b[0;32m    198\u001b[0m     \u001b[38;5;28;01mraise\u001b[39;00m\n",
      "\u001b[1;31mAnalysisException\u001b[0m: Column 'album' does not exist. Did you mean one of the following? [0.116, 0.118, 0.121, 0.132, 0.141, 0.185, 0.186, 0.189, 0.2, 0.204, 0.205, 0.208, 0.212, 0.213, 0.216, 0.217, 0.218, 0.219, 0.22, 0.223, 0.227, 0.229, 0.231, 0.234, 0.237, 0.238, 0.242, 0.245, 0.248, 0.249, 0.25, 0.254, 0.257, 0.258, 0.261, 0.262, 0.263, 0.264, 0.266, 0.27, 0.277, 0.278, 0.279, 0.283, 0.284, 0.285, 0.289, 0.293, 0.294, 0.298, 0.299, 0.3, 0.301, 0.303, 0.305, 0.307, 0.309, 0.314, 0.318, 0.319, 0.322, 0.323, 0.324, 0.326, 0.333, 0.335, 0.34, 0.342, 0.346, 0.349, 0.353, 0.356, 0.357, 0.358, 0.359, 0.361, 0.364, 0.368, 0.37, 0.371, 0.373, 0.378, 0.38, 0.381, 0.386, 0.388, 0.391, 0.395, 0.396, 0.398, 0.4, 0.401, 0.402, 0.403, 0.41, 0.411, 0.413, 0.414, 0.418, 0.42, 0.421, 0.425, 0.426, 0.427, 0.429, 0.43, 0.436, 0.437, 0.438, 0.439, 0.44, 0.443, 0.448, 0.45, 0.452, 0.453, 0.454, 0.462, 0.463, 0.465, 0.469, 0.471, 0.473, 0.474, 0.475, 0.476, 0.479, 0.482, 0.483, 0.486, 0.487, 0.489, 0.49, 0.491, 0.492, 0.493, 0.494, 0.496, 0.498, 0.5, 0.501, 0.502, 0.504, 0.505, 0.508, 0.51, 0.511, 0.513, 0.514, 0.515, 0.518, 0.52, 0.522, 0.523, 0.528, 0.53, 0.532, 0.533, 0.535, 0.537, 0.54, 0.541, 0.542, 0.545, 0.548, 0.549, 0.552, 0.558, 0.562, 0.564, 0.567, 0.571, 0.575, 0.577, 0.578, 0.582, 0.588, 0.589, 0.59, 0.594, 0.598, 0.603, 0.608, 0.623, 0.63, 0.633, 0.637, 0.638, 0.639, 0.64, 0.641, 0.644, 0.65, 0.657, 0.658, 0.659, 0.661, 0.666, 0.668, 0.669, 0.673, 0.678, 0.682, 0.683, 0.685, 0.687, 0.69, 0.693, 0.697, 0.703, 0.705, 0.708, 0.714, 0.716, 0.72, 0.723, 0.726, 0.728, 0.735, 0.736, 0.739, 0.741, 0.743, 0.748, 0.753, 0.754, 0.778, 0.784, 0.787, 0.793, 0.794, 0.809, 0.81, 0.811, 0.812, 0.813, 0.814, 0.815, 0.816, 0.817, 0.819, 0.82, 0.822, 0.824, 0.826, 0.827, 0.832, 0.835, 0.837, 0.838, 0.844, 0.845, 0.848, 0.849, 0.858, 0.861, 0.862, 0.865, 0.867, 0.868, 0.87, 0.875, 0.876, 0.881, 0.885, 0.888, 0.889, 0.895, 0.901, 0.902, 0.905, 0.907, 0.909, 0.915, 0.919, 0.921, 0.926, 0.931, 0.932, 0.933, 0.936, 0.938, 0.947, 0.956, 0.957, 0.96, 0.968, 0.969, 0.97, 0.979, 0.982, popularity_energy];\n'Sort ['album ASC NULLS FIRST], true\n+- Project [popularity_energy#5538, coalesce(0.116#5539L, cast(0.0 as bigint)) AS 0.116#6414L, coalesce(0.118#5540L, cast(0.0 as bigint)) AS 0.118#6415L, coalesce(0.121#5541L, cast(0.0 as bigint)) AS 0.121#6416L, coalesce(0.132#5542L, cast(0.0 as bigint)) AS 0.132#6417L, coalesce(0.141#5543L, cast(0.0 as bigint)) AS 0.141#6418L, coalesce(0.185#5544L, cast(0.0 as bigint)) AS 0.185#6419L, coalesce(0.186#5545L, cast(0.0 as bigint)) AS 0.186#6420L, coalesce(0.189#5546L, cast(0.0 as bigint)) AS 0.189#6421L, coalesce(0.2#5547L, cast(0.0 as bigint)) AS 0.2#6422L, coalesce(0.204#5548L, cast(0.0 as bigint)) AS 0.204#6423L, coalesce(0.205#5549L, cast(0.0 as bigint)) AS 0.205#6424L, coalesce(0.208#5550L, cast(0.0 as bigint)) AS 0.208#6425L, coalesce(0.212#5551L, cast(0.0 as bigint)) AS 0.212#6426L, coalesce(0.213#5552L, cast(0.0 as bigint)) AS 0.213#6427L, coalesce(0.216#5553L, cast(0.0 as bigint)) AS 0.216#6428L, coalesce(0.217#5554L, cast(0.0 as bigint)) AS 0.217#6429L, coalesce(0.218#5555L, cast(0.0 as bigint)) AS 0.218#6430L, coalesce(0.219#5556L, cast(0.0 as bigint)) AS 0.219#6431L, coalesce(0.22#5557L, cast(0.0 as bigint)) AS 0.22#6432L, coalesce(0.223#5558L, cast(0.0 as bigint)) AS 0.223#6433L, coalesce(0.227#5559L, cast(0.0 as bigint)) AS 0.227#6434L, coalesce(0.229#5560L, cast(0.0 as bigint)) AS 0.229#6435L, coalesce(0.231#5561L, cast(0.0 as bigint)) AS 0.231#6436L, ... 268 more fields]\n   +- LocalRelation [popularity_energy#5538, 0.116#5539L, 0.118#5540L, 0.121#5541L, 0.132#5542L, 0.141#5543L, 0.185#5544L, 0.186#5545L, 0.189#5546L, 0.2#5547L, 0.204#5548L, 0.205#5549L, 0.208#5550L, 0.212#5551L, 0.213#5552L, 0.216#5553L, 0.217#5554L, 0.218#5555L, 0.219#5556L, 0.22#5557L, 0.223#5558L, 0.227#5559L, 0.229#5560L, 0.231#5561L, ... 268 more fields]\n"
     ]
    }
   ],
   "source": [
    "data.crosstab('popularity', 'energy').sort('album').show()"
   ]
  },
  {
   "cell_type": "code",
   "execution_count": 12,
   "id": "b4ece533",
   "metadata": {},
   "outputs": [],
   "source": [
    "import pyodbc"
   ]
  },
  {
   "cell_type": "code",
   "execution_count": 1,
   "id": "af2fcf60",
   "metadata": {},
   "outputs": [],
   "source": [
    "import pandas as pd\n",
    "data = pd.read_csv(\"D:/Python/datasets/eplmatches.csv\")"
   ]
  },
  {
   "cell_type": "code",
   "execution_count": 2,
   "id": "5e2d6ff7",
   "metadata": {},
   "outputs": [
    {
     "data": {
      "text/plain": [
       "Index(['Season_End_Year', 'Wk', 'Date', 'Home', 'HomeGoals', 'AwayGoals',\n",
       "       'Away', 'FTR'],\n",
       "      dtype='object')"
      ]
     },
     "execution_count": 2,
     "metadata": {},
     "output_type": "execute_result"
    }
   ],
   "source": [
    "data.columns"
   ]
  },
  {
   "cell_type": "code",
   "execution_count": 26,
   "id": "b497872a",
   "metadata": {},
   "outputs": [],
   "source": [
    "exel = data.to_excel(\"country_playlist_tracks_data.xlsx\", sheet_name=\"sheet1\", index=False)"
   ]
  },
  {
   "cell_type": "code",
   "execution_count": 29,
   "id": "7aa7c436",
   "metadata": {},
   "outputs": [],
   "source": [
    "data1 = pd.read_excel(\"country_playlist_tracks_data.xlsx\")"
   ]
  },
  {
   "cell_type": "code",
   "execution_count": 30,
   "id": "b0f5be81",
   "metadata": {},
   "outputs": [
    {
     "data": {
      "text/html": [
       "<div>\n",
       "<style scoped>\n",
       "    .dataframe tbody tr th:only-of-type {\n",
       "        vertical-align: middle;\n",
       "    }\n",
       "\n",
       "    .dataframe tbody tr th {\n",
       "        vertical-align: top;\n",
       "    }\n",
       "\n",
       "    .dataframe thead th {\n",
       "        text-align: right;\n",
       "    }\n",
       "</style>\n",
       "<table border=\"1\" class=\"dataframe\">\n",
       "  <thead>\n",
       "    <tr style=\"text-align: right;\">\n",
       "      <th></th>\n",
       "      <th>track_id</th>\n",
       "      <th>track_name</th>\n",
       "      <th>artist_id</th>\n",
       "      <th>artist_name</th>\n",
       "      <th>album_id</th>\n",
       "      <th>duration</th>\n",
       "      <th>release_date</th>\n",
       "      <th>popularity</th>\n",
       "      <th>danceability</th>\n",
       "      <th>energy</th>\n",
       "      <th>...</th>\n",
       "      <th>loudness</th>\n",
       "      <th>mode</th>\n",
       "      <th>speechiness</th>\n",
       "      <th>acousticness</th>\n",
       "      <th>instrumentalness</th>\n",
       "      <th>liveness</th>\n",
       "      <th>valence</th>\n",
       "      <th>tempo</th>\n",
       "      <th>playlist_id</th>\n",
       "      <th>playlist_name</th>\n",
       "    </tr>\n",
       "  </thead>\n",
       "  <tbody>\n",
       "    <tr>\n",
       "      <th>0</th>\n",
       "      <td>0BkzrrQUzJhCAFk3Pq7g29</td>\n",
       "      <td>Hell Yeah</td>\n",
       "      <td>3CygdxquGHurS7f9LjNLkv</td>\n",
       "      <td>Little Big Town</td>\n",
       "      <td>0IqcqqXBaXwUx1IV2jHb6I</td>\n",
       "      <td>175840</td>\n",
       "      <td>2022-04-11</td>\n",
       "      <td>68</td>\n",
       "      <td>0.577</td>\n",
       "      <td>0.601</td>\n",
       "      <td>...</td>\n",
       "      <td>-5.010</td>\n",
       "      <td>1</td>\n",
       "      <td>0.0357</td>\n",
       "      <td>0.1460</td>\n",
       "      <td>0.000000</td>\n",
       "      <td>0.0886</td>\n",
       "      <td>0.907</td>\n",
       "      <td>171.912</td>\n",
       "      <td>37i9dQZF1DX1lVhptIYRda</td>\n",
       "      <td>Hot Country</td>\n",
       "    </tr>\n",
       "    <tr>\n",
       "      <th>1</th>\n",
       "      <td>6HBRLaSQ7NB8MNlaqzYen1</td>\n",
       "      <td>What My World Spins Around</td>\n",
       "      <td>77kULmXAQ6vWer7IIHdGzI</td>\n",
       "      <td>Jordan Davis</td>\n",
       "      <td>4oTrQ9TmOapgT6uI8W6wsS</td>\n",
       "      <td>186790</td>\n",
       "      <td>2022-05-27</td>\n",
       "      <td>78</td>\n",
       "      <td>0.675</td>\n",
       "      <td>0.726</td>\n",
       "      <td>...</td>\n",
       "      <td>-6.459</td>\n",
       "      <td>1</td>\n",
       "      <td>0.0461</td>\n",
       "      <td>0.1050</td>\n",
       "      <td>0.000000</td>\n",
       "      <td>0.1530</td>\n",
       "      <td>0.671</td>\n",
       "      <td>124.872</td>\n",
       "      <td>37i9dQZF1DX1lVhptIYRda</td>\n",
       "      <td>Hot Country</td>\n",
       "    </tr>\n",
       "    <tr>\n",
       "      <th>2</th>\n",
       "      <td>4tKtMWS8LZRvWhzuHKRIdr</td>\n",
       "      <td>I Can't Love You Anymore</td>\n",
       "      <td>6WY7D3jk8zTrHtmkqqo5GI</td>\n",
       "      <td>Maren Morris</td>\n",
       "      <td>3BEDHGAd2zJh5dUL4dbmiw</td>\n",
       "      <td>169306</td>\n",
       "      <td>2022-03-25</td>\n",
       "      <td>66</td>\n",
       "      <td>0.342</td>\n",
       "      <td>0.591</td>\n",
       "      <td>...</td>\n",
       "      <td>-5.115</td>\n",
       "      <td>1</td>\n",
       "      <td>0.0452</td>\n",
       "      <td>0.2170</td>\n",
       "      <td>0.000000</td>\n",
       "      <td>0.1600</td>\n",
       "      <td>0.399</td>\n",
       "      <td>175.673</td>\n",
       "      <td>37i9dQZF1DX1lVhptIYRda</td>\n",
       "      <td>Hot Country</td>\n",
       "    </tr>\n",
       "    <tr>\n",
       "      <th>3</th>\n",
       "      <td>28n8z9IQKyjMPxmvYMBqZa</td>\n",
       "      <td>The Kind of Love We Make</td>\n",
       "      <td>718COspgdWOnwOFpJHRZHS</td>\n",
       "      <td>Luke Combs</td>\n",
       "      <td>77B78XJKo4LcsrRg34GNTu</td>\n",
       "      <td>224426</td>\n",
       "      <td>2022-06-17</td>\n",
       "      <td>82</td>\n",
       "      <td>0.608</td>\n",
       "      <td>0.745</td>\n",
       "      <td>...</td>\n",
       "      <td>-4.130</td>\n",
       "      <td>1</td>\n",
       "      <td>0.0277</td>\n",
       "      <td>0.0226</td>\n",
       "      <td>0.000006</td>\n",
       "      <td>0.0942</td>\n",
       "      <td>0.464</td>\n",
       "      <td>102.025</td>\n",
       "      <td>37i9dQZF1DX1lVhptIYRda</td>\n",
       "      <td>Hot Country</td>\n",
       "    </tr>\n",
       "    <tr>\n",
       "      <th>4</th>\n",
       "      <td>4iy69rTUn8cAY8Q8q9vfOw</td>\n",
       "      <td>Gold</td>\n",
       "      <td>7x8nK0m0cP2ksQf0mjWdPS</td>\n",
       "      <td>Dierks Bentley</td>\n",
       "      <td>2NLp3E2m7Z9JnoLR6eOJYI</td>\n",
       "      <td>167760</td>\n",
       "      <td>2022-07-29</td>\n",
       "      <td>62</td>\n",
       "      <td>0.674</td>\n",
       "      <td>0.873</td>\n",
       "      <td>...</td>\n",
       "      <td>-4.256</td>\n",
       "      <td>1</td>\n",
       "      <td>0.0285</td>\n",
       "      <td>0.0482</td>\n",
       "      <td>0.000000</td>\n",
       "      <td>0.1800</td>\n",
       "      <td>0.946</td>\n",
       "      <td>115.010</td>\n",
       "      <td>37i9dQZF1DX1lVhptIYRda</td>\n",
       "      <td>Hot Country</td>\n",
       "    </tr>\n",
       "  </tbody>\n",
       "</table>\n",
       "<p>5 rows × 21 columns</p>\n",
       "</div>"
      ],
      "text/plain": [
       "                 track_id                  track_name               artist_id  \\\n",
       "0  0BkzrrQUzJhCAFk3Pq7g29                   Hell Yeah  3CygdxquGHurS7f9LjNLkv   \n",
       "1  6HBRLaSQ7NB8MNlaqzYen1  What My World Spins Around  77kULmXAQ6vWer7IIHdGzI   \n",
       "2  4tKtMWS8LZRvWhzuHKRIdr    I Can't Love You Anymore  6WY7D3jk8zTrHtmkqqo5GI   \n",
       "3  28n8z9IQKyjMPxmvYMBqZa    The Kind of Love We Make  718COspgdWOnwOFpJHRZHS   \n",
       "4  4iy69rTUn8cAY8Q8q9vfOw                        Gold  7x8nK0m0cP2ksQf0mjWdPS   \n",
       "\n",
       "       artist_name                album_id  duration release_date  popularity  \\\n",
       "0  Little Big Town  0IqcqqXBaXwUx1IV2jHb6I    175840   2022-04-11          68   \n",
       "1     Jordan Davis  4oTrQ9TmOapgT6uI8W6wsS    186790   2022-05-27          78   \n",
       "2     Maren Morris  3BEDHGAd2zJh5dUL4dbmiw    169306   2022-03-25          66   \n",
       "3       Luke Combs  77B78XJKo4LcsrRg34GNTu    224426   2022-06-17          82   \n",
       "4   Dierks Bentley  2NLp3E2m7Z9JnoLR6eOJYI    167760   2022-07-29          62   \n",
       "\n",
       "   danceability  energy  ...  loudness  mode  speechiness  acousticness  \\\n",
       "0         0.577   0.601  ...    -5.010     1       0.0357        0.1460   \n",
       "1         0.675   0.726  ...    -6.459     1       0.0461        0.1050   \n",
       "2         0.342   0.591  ...    -5.115     1       0.0452        0.2170   \n",
       "3         0.608   0.745  ...    -4.130     1       0.0277        0.0226   \n",
       "4         0.674   0.873  ...    -4.256     1       0.0285        0.0482   \n",
       "\n",
       "   instrumentalness  liveness  valence    tempo             playlist_id  \\\n",
       "0          0.000000    0.0886    0.907  171.912  37i9dQZF1DX1lVhptIYRda   \n",
       "1          0.000000    0.1530    0.671  124.872  37i9dQZF1DX1lVhptIYRda   \n",
       "2          0.000000    0.1600    0.399  175.673  37i9dQZF1DX1lVhptIYRda   \n",
       "3          0.000006    0.0942    0.464  102.025  37i9dQZF1DX1lVhptIYRda   \n",
       "4          0.000000    0.1800    0.946  115.010  37i9dQZF1DX1lVhptIYRda   \n",
       "\n",
       "  playlist_name  \n",
       "0   Hot Country  \n",
       "1   Hot Country  \n",
       "2   Hot Country  \n",
       "3   Hot Country  \n",
       "4   Hot Country  \n",
       "\n",
       "[5 rows x 21 columns]"
      ]
     },
     "execution_count": 30,
     "metadata": {},
     "output_type": "execute_result"
    }
   ],
   "source": [
    "data1.head()"
   ]
  },
  {
   "cell_type": "code",
   "execution_count": 22,
   "id": "8470edb7",
   "metadata": {},
   "outputs": [],
   "source": [
    "excelDataframe=pd.read_excel('country_playlist_tracks_data.xlsx')"
   ]
  },
  {
   "cell_type": "code",
   "execution_count": 23,
   "id": "3ddcac66",
   "metadata": {},
   "outputs": [
    {
     "data": {
      "text/html": [
       "<div>\n",
       "<style scoped>\n",
       "    .dataframe tbody tr th:only-of-type {\n",
       "        vertical-align: middle;\n",
       "    }\n",
       "\n",
       "    .dataframe tbody tr th {\n",
       "        vertical-align: top;\n",
       "    }\n",
       "\n",
       "    .dataframe thead th {\n",
       "        text-align: right;\n",
       "    }\n",
       "</style>\n",
       "<table border=\"1\" class=\"dataframe\">\n",
       "  <thead>\n",
       "    <tr style=\"text-align: right;\">\n",
       "      <th></th>\n",
       "    </tr>\n",
       "  </thead>\n",
       "  <tbody>\n",
       "  </tbody>\n",
       "</table>\n",
       "</div>"
      ],
      "text/plain": [
       "Empty DataFrame\n",
       "Columns: []\n",
       "Index: []"
      ]
     },
     "execution_count": 23,
     "metadata": {},
     "output_type": "execute_result"
    }
   ],
   "source": [
    "excelDataframe"
   ]
  },
  {
   "cell_type": "code",
   "execution_count": null,
   "id": "7f1dafcf",
   "metadata": {},
   "outputs": [],
   "source": []
  }
 ],
 "metadata": {
  "kernelspec": {
   "display_name": "Python 3 (ipykernel)",
   "language": "python",
   "name": "python3"
  },
  "language_info": {
   "codemirror_mode": {
    "name": "ipython",
    "version": 3
   },
   "file_extension": ".py",
   "mimetype": "text/x-python",
   "name": "python",
   "nbconvert_exporter": "python",
   "pygments_lexer": "ipython3",
   "version": "3.9.12"
  }
 },
 "nbformat": 4,
 "nbformat_minor": 5
}
