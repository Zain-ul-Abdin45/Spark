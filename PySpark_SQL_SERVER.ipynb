{
 "cells": [
  {
   "cell_type": "code",
   "execution_count": 32,
   "id": "25a60411",
   "metadata": {},
   "outputs": [],
   "source": [
    "import findspark\n",
    "findspark.init()\n",
    "from pyspark.sql import SparkSession"
   ]
  },
  {
   "cell_type": "code",
   "execution_count": 33,
   "id": "2bc6da44",
   "metadata": {},
   "outputs": [],
   "source": [
    "spark = SparkSession \\\n",
    "        .builder\\\n",
    "        .appName(\"Python Spark RDD example\")\\\n",
    "        .config(\"spark.some.config.option\", \"some-value\") \\\n",
    "        .getOrCreate()\n",
    "\n",
    "user_name = 'DESKTOP-9KNE9DT\\ZAINULABDIN'\n",
    "password = ''\n",
    "table_name = 'defense_table'"
   ]
  },
  {
   "cell_type": "code",
   "execution_count": 34,
   "id": "99486a94",
   "metadata": {},
   "outputs": [],
   "source": [
    "import pyodbc\n",
    "database = 'open_api_dev'\n",
    "conn_str = (\"DRIVER={SQL SERVER};\"\n",
    "            \"SERVER=DESKTOP-9KNE9DT\\SQLEXPRESS;\"\n",
    "            \"DATABASE=open_api_dev;\"\n",
    "            \"Trusted_Connection=yes;\")\n",
    "#                          PWD={password}')"
   ]
  },
  {
   "cell_type": "code",
   "execution_count": 35,
   "id": "a0e9fc73",
   "metadata": {},
   "outputs": [],
   "source": [
    "table  = 'dbo.defense_table'\n",
    "query = f\"SELECT EmployeeID, EmployeeName, Position FROM {table}\""
   ]
  },
  {
   "cell_type": "code",
   "execution_count": 37,
   "id": "a786fd0e",
   "metadata": {},
   "outputs": [],
   "source": [
    "spark.stop()"
   ]
  },
  {
   "cell_type": "code",
   "execution_count": 38,
   "id": "b2f34908",
   "metadata": {
    "scrolled": true
   },
   "outputs": [
    {
     "name": "stderr",
     "output_type": "stream",
     "text": [
      "C:\\app\\spark-3.3.1-bin-hadoop3\\python\\pyspark\\sql\\context.py:112: FutureWarning: Deprecated in 3.0.0. Use SparkSession.builder.getOrCreate() instead.\n",
      "  warnings.warn(\n"
     ]
    }
   ],
   "source": [
    "import findspark\n",
    "findspark.init()\n",
    "from pyspark import SparkContext, SparkConf, SQLContext\n",
    "import pyodbc\n",
    "import pandas as pd\n",
    "\n",
    "appName = \"PySpark SQL Server Example - via ODBC\"\n",
    "master = \"local\"\n",
    "conf = SparkConf() \\\n",
    "    .setAppName(appName) \\\n",
    "    .setMaster(master) \n",
    "sc = SparkContext(conf=conf)\n",
    "sqlContext = SQLContext(sc)\n",
    "spark = sqlContext.sparkSession\n",
    "\n",
    "database = \"open_api_dev\"\n",
    "table = \"dbo.defense_table\"\n",
    "# user = \"\"\n",
    "# password  = \"zeppelin\""
   ]
  },
  {
   "cell_type": "code",
   "execution_count": 39,
   "id": "f6e24afe",
   "metadata": {
    "scrolled": true
   },
   "outputs": [
    {
     "name": "stderr",
     "output_type": "stream",
     "text": [
      "C:\\Users\\ZAINULABDIN\\anaconda3\\lib\\site-packages\\pandas\\io\\sql.py:761: UserWarning: pandas only support SQLAlchemy connectable(engine/connection) ordatabase string URI or sqlite3 DBAPI2 connectionother DBAPI2 objects are not tested, please consider using SQLAlchemy\n",
      "  warnings.warn(\n"
     ]
    },
    {
     "name": "stdout",
     "output_type": "stream",
     "text": [
      "+--------------------+--------+---------+------+----------+----------+-------+-----------+---------------+---------------+---------------+---------------+----------+-------------------+-------------+------+-------------+--------------+-------------+---------------------+----------+------+\n",
      "|              player|position|     team|   age|birth_year|minutes_90|tackles|tackles_won|tackles_def_3rd|tackles_mid_3rd|tackles_att_3rd|dribble_tackles|dribble_vs|dribble_tackles_pct|dribbled_past|blocks|blocked_shots|blocked_passes|interceptions|tackles_interceptions|clearances|errors|\n",
      "+--------------------+--------+---------+------+----------+----------+-------+-----------+---------------+---------------+---------------+---------------+----------+-------------------+-------------+------+-------------+--------------+-------------+---------------------+----------+------+\n",
      "|          Aaron Mooy|      MF|Australia|32-083|      1990|       4.0|      9|          6|              4|              4|              1|              6|         8|               75.0|            2|     6|            4|             2|            3|                   12|         9|     0|\n",
      "|        Aaron Ramsey|      MF|    Wales|31-346|      1990|       3.0|      2|          0|              0|              2|              0|              0|         2|                0.0|            2|     4|            1|             3|            0|                    2|         2|     1|\n",
      "|   Abdelhamid Sabiri|      MF|  Morocco|26-009|      1996|       1.5|      2|          0|              1|              1|              0|              1|         3|               33.3|            2|     3|            1|             2|            5|                    7|         3|     0|\n",
      "|   Abdelkarim Hassan|      DF|    Qatar|29-101|      1993|       3.0|      7|          3|              5|              2|              0|              3|         4|               75.0|            1|     3|            1|             2|            1|                    8|         5|     0|\n",
      "|Abderrazak Hamdallah|      FW|  Morocco|31-355|      1990|       0.5|      0|          0|              0|              0|              0|              0|         1|                0.0|            1|     0|            0|             0|            0|                    0|         2|     0|\n",
      "+--------------------+--------+---------+------+----------+----------+-------+-----------+---------------+---------------+---------------+---------------+----------+-------------------+-------------+------+-------------+--------------+-------------+---------------------+----------+------+\n",
      "only showing top 5 rows\n",
      "\n"
     ]
    }
   ],
   "source": [
    "conn = pyodbc.connect(f'DRIVER={{ODBC Driver 17 for SQL Server}};SERVER=DESKTOP-9KNE9DT\\SQLEXPRESS;DATABASE={database};Trusted_Connection=yes;') #;UID={user};PWD={password}')\n",
    "query = f\"SELECT * FROM {table}\"\n",
    "pdf = pd.read_sql(query, conn)\n",
    "sparkDF =  spark.createDataFrame(pdf)\n",
    "sparkDF.show(5)"
   ]
  },
  {
   "cell_type": "code",
   "execution_count": 40,
   "id": "4c8fe668",
   "metadata": {},
   "outputs": [
    {
     "name": "stdout",
     "output_type": "stream",
     "text": [
      "(count: 1000, mean: -0.014202179548644956, stdev: 1.0482968785387337, max: 3.729526780093798, min: -3.7495238503623205)\n"
     ]
    },
    {
     "name": "stderr",
     "output_type": "stream",
     "text": [
      "C:\\app\\spark-3.3.1-bin-hadoop3\\python\\pyspark\\sql\\dataframe.py:229: FutureWarning: Deprecated in 2.0, use createOrReplaceTempView instead.\n",
      "  warnings.warn(\"Deprecated in 2.0, use createOrReplaceTempView instead.\", FutureWarning)\n"
     ]
    },
    {
     "data": {
      "text/plain": [
       "[Row(name='Alice', age=10)]"
      ]
     },
     "execution_count": 40,
     "metadata": {},
     "output_type": "execute_result"
    }
   ],
   "source": [
    "from pyspark.mllib.random import RandomRDDs\n",
    "from pyspark.sql.types import *\n",
    "\n",
    "random_rdd = RandomRDDs.normalRDD(sc, 1000, seed=1)\n",
    "stats = random_rdd.stats()\n",
    "print (stats)\n",
    "random_rdd.count()\n",
    "\n",
    "\n",
    "schema = StructType([\n",
    "    StructField(\"name\", StringType(), True),\n",
    "    StructField(\"age\", IntegerType(), True)])\n",
    "\n",
    "d = [{'name': 'Alice', 'age': 10},\n",
    "     {'name': 'Cooper', 'age': 65}]\n",
    "rdd = sc.parallelize(d)\n",
    "    \n",
    "df = sqlContext.createDataFrame(rdd, schema)\n",
    "df.registerTempTable(\"people\")\n",
    "\n",
    "df.collect()\n",
    "sqlContext.sql('SELECT * FROM people WHERE age < 15').collect()"
   ]
  },
  {
   "cell_type": "code",
   "execution_count": null,
   "id": "06b4debb",
   "metadata": {},
   "outputs": [],
   "source": []
  }
 ],
 "metadata": {
  "kernelspec": {
   "display_name": "Python 3 (ipykernel)",
   "language": "python",
   "name": "python3"
  },
  "language_info": {
   "codemirror_mode": {
    "name": "ipython",
    "version": 3
   },
   "file_extension": ".py",
   "mimetype": "text/x-python",
   "name": "python",
   "nbconvert_exporter": "python",
   "pygments_lexer": "ipython3",
   "version": "3.9.12"
  }
 },
 "nbformat": 4,
 "nbformat_minor": 5
}
